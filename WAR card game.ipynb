{
 "cells": [
  {
   "cell_type": "code",
   "execution_count": 1,
   "metadata": {},
   "outputs": [],
   "source": [
    "import random\n",
    "\n",
    "suits = ('Hearts', 'Diamonds', 'Spades', 'Clubs')\n",
    "ranks = ('Two', 'Three', 'Four', 'Five', 'Six', 'Seven', 'Eight', 'Nine', 'Ten', 'Jack', 'Queen', 'King', 'Ace')\n",
    "values = {'Two':2, 'Three':3, 'Four':4, 'Five':5, 'Six':6, 'Seven':7, 'Eight':8, 'Nine':9, 'Ten':10, 'Jack':11,\n",
    "         'Queen':12, 'King':13, 'Ace':14}\n"
   ]
  },
  {
   "cell_type": "code",
   "execution_count": 2,
   "metadata": {},
   "outputs": [],
   "source": [
    "class Card:\n",
    "    \n",
    "    def __init__ (self,suit,rank):\n",
    "        self.suit = suit\n",
    "        self.rank = rank\n",
    "        self.values = values[rank]\n",
    "        \n",
    "    def __str__(self):\n",
    "        return self.rank  +  ' of '  +  self.suit\n",
    "    "
   ]
  },
  {
   "cell_type": "code",
   "execution_count": 3,
   "metadata": {},
   "outputs": [],
   "source": [
    "two_of_hearts = Card('Hearts','Two')\n"
   ]
  },
  {
   "cell_type": "code",
   "execution_count": 4,
   "metadata": {},
   "outputs": [
    {
     "data": {
      "text/plain": [
       "'Two'"
      ]
     },
     "execution_count": 4,
     "metadata": {},
     "output_type": "execute_result"
    }
   ],
   "source": [
    "two_of_hearts.rank"
   ]
  },
  {
   "cell_type": "code",
   "execution_count": 5,
   "metadata": {},
   "outputs": [
    {
     "data": {
      "text/plain": [
       "'Hearts'"
      ]
     },
     "execution_count": 5,
     "metadata": {},
     "output_type": "execute_result"
    }
   ],
   "source": [
    "two_of_hearts.suit\n"
   ]
  },
  {
   "cell_type": "code",
   "execution_count": 6,
   "metadata": {},
   "outputs": [
    {
     "data": {
      "text/plain": [
       "2"
      ]
     },
     "execution_count": 6,
     "metadata": {},
     "output_type": "execute_result"
    }
   ],
   "source": [
    "two_of_hearts.values"
   ]
  },
  {
   "cell_type": "code",
   "execution_count": 7,
   "metadata": {},
   "outputs": [],
   "source": [
    "five_of_diamonds = Card('Diamonds','Five')"
   ]
  },
  {
   "cell_type": "code",
   "execution_count": 8,
   "metadata": {},
   "outputs": [
    {
     "data": {
      "text/plain": [
       "5"
      ]
     },
     "execution_count": 8,
     "metadata": {},
     "output_type": "execute_result"
    }
   ],
   "source": [
    "five_of_diamonds.values"
   ]
  },
  {
   "cell_type": "code",
   "execution_count": 9,
   "metadata": {},
   "outputs": [
    {
     "data": {
      "text/plain": [
       "True"
      ]
     },
     "execution_count": 9,
     "metadata": {},
     "output_type": "execute_result"
    }
   ],
   "source": [
    "five_of_diamonds.values > two_of_hearts.values"
   ]
  },
  {
   "cell_type": "code",
   "execution_count": 10,
   "metadata": {},
   "outputs": [],
   "source": [
    "\n",
    "# we need a deck : to give out the cards and to shuffle them.\n",
    "\n",
    "class Deck:\n",
    "    \n",
    "    def __init__(self):           #we are not writing any words after self, bcoz we already created card values and names on Card class\n",
    "        \n",
    "        self.all_cards = []       # it is a empty list \n",
    "        \n",
    "        for suit in suits:             # we are using for loop to print values of \"suits\" variable\n",
    "            for rank in ranks: \n",
    "                created_card = Card(suit,rank)    # we are adding the values of cards from Class card funtion to Deck cl\n",
    "                \n",
    "                self.all_cards.append(created_card)\n",
    "\n",
    "    def __str__(self):\n",
    "        \n",
    "        deck_comp = ' '\n",
    "        \n",
    "        for card in self.all_cards:\n",
    "            deck_comp += ' \\n ' + card. __str__()            #this string method is basically for printing the 52 card names\n",
    "        return 'the deck has :' + deck_comp\n",
    "    \n",
    "    def shuffle(self):\n",
    "        random.shuffle(self.all_cards)              # this method is to shuffle all the cards in the deck\n",
    "    \n",
    "    def deal_one(self):\n",
    "        return self.all_cards.pop()                 # this method is to remove card and return remaining cards"
   ]
  },
  {
   "cell_type": "code",
   "execution_count": 11,
   "metadata": {},
   "outputs": [],
   "source": [
    "my_card = Deck()"
   ]
  },
  {
   "cell_type": "code",
   "execution_count": 12,
   "metadata": {},
   "outputs": [
    {
     "data": {
      "text/plain": [
       "52"
      ]
     },
     "execution_count": 12,
     "metadata": {},
     "output_type": "execute_result"
    }
   ],
   "source": [
    "len(my_card.all_cards)"
   ]
  },
  {
   "cell_type": "code",
   "execution_count": 13,
   "metadata": {},
   "outputs": [
    {
     "name": "stdout",
     "output_type": "stream",
     "text": [
      "Ace of Clubs\n"
     ]
    }
   ],
   "source": [
    "print(my_card.all_cards[-1])"
   ]
  },
  {
   "cell_type": "code",
   "execution_count": 14,
   "metadata": {},
   "outputs": [],
   "source": [
    "my_card.shuffle()"
   ]
  },
  {
   "cell_type": "code",
   "execution_count": 15,
   "metadata": {},
   "outputs": [
    {
     "name": "stdout",
     "output_type": "stream",
     "text": [
      "Eight of Clubs\n"
     ]
    }
   ],
   "source": [
    "print(my_card.all_cards[-1])"
   ]
  },
  {
   "cell_type": "code",
   "execution_count": 16,
   "metadata": {},
   "outputs": [],
   "source": [
    "my_new_card = my_card.deal_one()"
   ]
  },
  {
   "cell_type": "code",
   "execution_count": 17,
   "metadata": {},
   "outputs": [
    {
     "name": "stdout",
     "output_type": "stream",
     "text": [
      "Eight of Clubs\n"
     ]
    }
   ],
   "source": [
    "print(my_new_card)"
   ]
  },
  {
   "cell_type": "code",
   "execution_count": 18,
   "metadata": {},
   "outputs": [],
   "source": [
    "\n",
    "class Player:\n",
    "    \n",
    "    def __init__ (self,name):\n",
    "        \n",
    "        self.name = name                                   # we are giving a name to player\n",
    "        self.all_cards = []                                # starting players card with 0 count with empty list\n",
    "        \n",
    "    def remove_one(self):\n",
    "                                                        # we are removing first card after he bets and loses that card\n",
    "        return self.all_cards.pop(0)\n",
    "    \n",
    "    def add_card(self,new_cards):\n",
    "        \n",
    "        if type(new_cards) == type([]):              # what this basically is we are adding multiple cards to his deck if he wins multiple cards\n",
    "            self.all_cards.extend(new_cards)          # [] = list of cards(multiple cards) not single cards\n",
    "            \n",
    "        else:\n",
    "            self.all_cards.append(new_cards)             # we are using append method to add single card\n",
    "            \n",
    "    def __str__(self):\n",
    "        \n",
    "         return f'Player {self.name} has {len(self.all_cards)} cards.' \n",
    "            \n",
    "                  \n",
    "            \n",
    "                \n",
    "        "
   ]
  },
  {
   "cell_type": "code",
   "execution_count": 19,
   "metadata": {},
   "outputs": [],
   "source": [
    "# Game setup \n",
    "\n",
    "player_one = Player('ONE')\n",
    "player_two = Player('TWO')                       # we are giving players thier names by calling the 'Player class' we created earlier.\n",
    "\n",
    "new_deck = Deck()\n",
    "new_deck.shuffle()                      # we are calling DEck class to shuffle and perfom other built methods from DECK class\n",
    "\n",
    "for x in range(26):\n",
    "    player_one.add_card(new_deck.deal_one())\n",
    "    player_two.add_card(new_deck.deal_one())\n",
    "    \n",
    "\n",
    "\n"
   ]
  },
  {
   "cell_type": "code",
   "execution_count": 20,
   "metadata": {},
   "outputs": [],
   "source": [
    "game_on = True"
   ]
  },
  {
   "cell_type": "code",
   "execution_count": 21,
   "metadata": {},
   "outputs": [
    {
     "name": "stdout",
     "output_type": "stream",
     "text": [
      "Round 1\n",
      "Round 2\n",
      "Round 3\n",
      "Round 4\n",
      "Round 5\n",
      "WAR!!\n",
      "Round 6\n",
      "Round 7\n",
      "Round 8\n",
      "Round 9\n",
      "Round 10\n",
      "Round 11\n",
      "Round 12\n",
      "Round 13\n",
      "Round 14\n",
      "Round 15\n",
      "Round 16\n",
      "Round 17\n",
      "WAR!!\n",
      "Round 18\n",
      "Round 19\n",
      "Round 20\n",
      "Round 21\n",
      "Round 22\n",
      "Round 23\n",
      "Round 24\n",
      "Round 25\n",
      "Round 26\n",
      "Round 27\n",
      "Round 28\n",
      "Round 29\n",
      "Round 30\n",
      "Round 31\n",
      "Round 32\n",
      "Round 33\n",
      "Round 34\n",
      "Round 35\n",
      "Round 36\n",
      "Round 37\n",
      "Round 38\n",
      "Round 39\n",
      "Round 40\n",
      "Round 41\n",
      "Round 42\n",
      "Round 43\n",
      "Round 44\n",
      "Round 45\n",
      "Round 46\n",
      "Round 47\n",
      "Round 48\n",
      "Round 49\n",
      "Round 50\n",
      "Round 51\n",
      "Round 52\n",
      "Round 53\n",
      "Round 54\n",
      "Round 55\n",
      "Round 56\n",
      "Round 57\n",
      "Round 58\n",
      "Round 59\n",
      "Round 60\n",
      "Round 61\n",
      "Round 62\n",
      "Round 63\n",
      "Round 64\n",
      "Round 65\n",
      "Round 66\n",
      "Round 67\n",
      "Round 68\n",
      "Round 69\n",
      "Round 70\n",
      "Round 71\n",
      "Round 72\n",
      "Round 73\n",
      "Round 74\n",
      "Round 75\n",
      "WAR!!\n",
      "Round 76\n",
      "Round 77\n",
      "Round 78\n",
      "Round 79\n",
      "Round 80\n",
      "Round 81\n",
      "Round 82\n",
      "Round 83\n",
      "Round 84\n",
      "Round 85\n",
      "Round 86\n",
      "Round 87\n",
      "Round 88\n",
      "Round 89\n",
      "Round 90\n",
      "Round 91\n",
      "WAR!!\n",
      "Player ONE unable declare WAR.\n",
      "PLAYER TWO WON THE GAME !\n",
      "Round 92\n",
      "Round 93\n",
      "Round 94\n",
      "Player One lost the game! Player Two won .\n"
     ]
    }
   ],
   "source": [
    "round_num = 0                               # this is number of rounds per game\n",
    "\n",
    "while game_on:                               # we had give a True value for game_on so this while loop loops until conditions are met\n",
    "    \n",
    "    round_num += 1                           # this is to add the rounds after completing each round\n",
    "    print(f'Round {round_num}')\n",
    "    \n",
    "    if len(player_one.all_cards) == 0:\n",
    "        print('Player One lost the game! Player Two won .')      # this function is to determine loser if they have 0 cards\n",
    "        game_on = False\n",
    "        break\n",
    "        \n",
    "    if len(player_two.all_cards) == 0:\n",
    "        print('Player two lost ! Player One won .')\n",
    "        game_on = False\n",
    "        break\n",
    "        \n",
    "    player_one_cards = []                                    # this function is to start new round in the game\n",
    "    player_one_cards.append(player_one.remove_one())\n",
    "    \n",
    "    player_two_cards = []\n",
    "    player_two_cards.append(player_two.remove_one())              # this statement is to add one card to table and remove one from players DECK    \n",
    "    \n",
    "    \n",
    "    \n",
    "    \n",
    "    \n",
    "    at_war = True                                         # we are giving a condition to a variable 'at_war'\n",
    "    \n",
    "    while at_war:\n",
    "        \n",
    "        if player_one_cards[-1].values > player_two_cards[-1].values:\n",
    "            player_one.add_card(player_one_cards)\n",
    "            player_one.add_card(player_two_cards)                           # this condition is to check both players last \n",
    "            \n",
    "            at_war = False                                                        # card and round winner will gets to add those cards to his deck\n",
    "            \n",
    "            \n",
    "        elif player_one_cards[-1].values < player_two_cards[-1].values:\n",
    "            player_two.add_card(player_one_cards)\n",
    "            player_two.add_card(player_two_cards)\n",
    "            \n",
    "            at_war = False\n",
    "            \n",
    "            \n",
    "        else:\n",
    "            \n",
    "            print('WAR!!')\n",
    "            \n",
    "            if len(player_one.all_cards) < 5:\n",
    "                print('Player ONE unable declare WAR.')\n",
    "                print('PLAYER TWO WON THE GAME !')\n",
    "                \n",
    "                game_one = False                                       # these conditions are to check how many cards left in deck\n",
    "                break                                                     # they will lose if they have less than 5 cards\n",
    "                                                                             # and the game will end there itself\n",
    "                \n",
    "            elif len(player_two.all_cards) < 5:\n",
    "                print('Player TWO unable to declare WAR .')\n",
    "                print('PLAYER ONE WON THE GAME!')\n",
    "                \n",
    "                game_on = False\n",
    "                break\n",
    "                \n",
    "            else:\n",
    "                for num in range(5):\n",
    "                    player_one_cards.append(player_one.remove_one())           # this condition is to add cards if they dont match\n",
    "                    player_two_cards.append(player_two.remove_one())            # above condition\n",
    "                \n",
    "                \n",
    "        \n",
    "             \n",
    "        "
   ]
  },
  {
   "cell_type": "code",
   "execution_count": null,
   "metadata": {},
   "outputs": [],
   "source": []
  },
  {
   "cell_type": "code",
   "execution_count": null,
   "metadata": {},
   "outputs": [],
   "source": []
  },
  {
   "cell_type": "code",
   "execution_count": null,
   "metadata": {},
   "outputs": [],
   "source": []
  },
  {
   "cell_type": "code",
   "execution_count": null,
   "metadata": {},
   "outputs": [],
   "source": []
  }
 ],
 "metadata": {
  "kernelspec": {
   "display_name": "Python 3",
   "language": "python",
   "name": "python3"
  },
  "language_info": {
   "codemirror_mode": {
    "name": "ipython",
    "version": 3
   },
   "file_extension": ".py",
   "mimetype": "text/x-python",
   "name": "python",
   "nbconvert_exporter": "python",
   "pygments_lexer": "ipython3",
   "version": "3.7.6"
  }
 },
 "nbformat": 4,
 "nbformat_minor": 4
}
