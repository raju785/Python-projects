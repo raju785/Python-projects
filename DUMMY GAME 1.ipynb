{
 "cells": [
  {
   "cell_type": "code",
   "execution_count": 1,
   "metadata": {},
   "outputs": [
    {
     "name": "stdout",
     "output_type": "stream",
     "text": [
      "Hello Welcome to my first Game\n",
      "what is your name:   Raju\n",
      "how old are you:  22\n",
      "Hello Raju you are 22 years old\n",
      "you are eligible to play\n",
      "do you want to play:  yes\n",
      "do you want to go left or right:  left\n",
      "on left you have graveyard and money, which one do you want:    money\n",
      "NO SUCH THING AS FREE MONEY GO EARN IT\n"
     ]
    }
   ],
   "source": [
    "print('Hello Welcome to my first Game')\n",
    "name = input('what is your name:   ')\n",
    "age = int(input('how old are you:  '))\n",
    "\n",
    "print('Hello', name ,'you are' ,age ,'years old')\n",
    "\n",
    "if age >= 18:\n",
    "    print('you are eligible to play')\n",
    "    \n",
    "    wants_to_play = input('do you want to play:  ').lower()\n",
    "    if wants_to_play == 'yes':\n",
    "        ans = (input('do you want to go left or right:  '))\n",
    "        if ans == 'left':\n",
    "            destination = input('on left you have graveyard and money, which one do you want:    ').lower()\n",
    "            if destination == 'graveyard':\n",
    "                print('you are dead! HAHAHA')\n",
    "            else:\n",
    "                print('NO SUCH THING AS FREE MONEY GO EARN IT')\n",
    "            \n",
    "        if ans == 'right':\n",
    "            destination = input('on right you have smartness and wisdom, which one you choose:    ').lower()\n",
    "            if destination == 'smartness':\n",
    "                print('you become smart by learning continuisly, so learn from evrywhere and from evryone')\n",
    "            elif destination == 'wisdom':\n",
    "                print('you become wise with experiances , so be open to any kind of oppurtunities')\n",
    "            else:\n",
    "                print('you are dumb if you dont make choice')\n",
    "                \n",
    "    if wants_to_play == 'no':\n",
    "        print('Good ! now f** off')\n",
    "    \n",
    "            \n",
    "        \n",
    "else:\n",
    "    print('you are not eligible')"
   ]
  },
  {
   "cell_type": "code",
   "execution_count": null,
   "metadata": {},
   "outputs": [],
   "source": []
  },
  {
   "cell_type": "code",
   "execution_count": null,
   "metadata": {},
   "outputs": [],
   "source": []
  }
 ],
 "metadata": {
  "kernelspec": {
   "display_name": "Python 3",
   "language": "python",
   "name": "python3"
  },
  "language_info": {
   "codemirror_mode": {
    "name": "ipython",
    "version": 3
   },
   "file_extension": ".py",
   "mimetype": "text/x-python",
   "name": "python",
   "nbconvert_exporter": "python",
   "pygments_lexer": "ipython3",
   "version": "3.7.6"
  }
 },
 "nbformat": 4,
 "nbformat_minor": 4
}
